{
 "cells": [
  {
   "cell_type": "code",
   "execution_count": 1,
   "metadata": {},
   "outputs": [
    {
     "data": {
      "text/plain": [
       "'7tab9pke7ee5n8d6adp27n843ynk57h73uet5p8pnau4ptk6h274y54t8n462839p996nydyke87h23h279k9ea2ytkeba2dd835fheykban79b54uekpdfn474kbenek5428u527f62543ef3uufhbytp839ua25uph64utytf7ua8yhudfe58k3d67y7e2kn476fdyebn3bhf69bpp375ny86pu68a8d2hhb6thyu3ftauy6n2yyn2bapfpnh72e2f93uu3b32ht4a64ep6e76dakbt24h823t39yh3aaak293nh7u8pk4n4b7ab72n7dhahdu5a85h789d4adn5p7d43b74tnb5k5fehku58h36b4p2d382ukkhk566d5nykdu59n5n9ne224n9hk8k5y2aph33b7e2au94uf8atu96endyu6thha62dpk24tkh5pubh8a54papa3ub9yaa3yh43ntde26n2u263ty47yu4p9uyan92de3h479f8f43n9f6bt6487d36nuuepftpdk2yt4yte48p5f9h9dduth8828h5dd9au8ya7yk8dh43te35u2unee96ku69ph4th7ybyb54pye2ny7k84f5peeeapnt4a25k6bp49bdeh8h5f6ue4y5betytet3b686enp7h28976p3eth66t3aee2y9tuytbk3k3n638564nt7fktypu69pu976hnfa64y4yf79aketkh9th2752kt5b6kyfy69fnh8unh6b2eke4746f3a2u669en92dnhny45f3fan72hku4fdhuy5k42h8958hya7k92b27a7e5k4e2bbe2dth6yne387n3eaktbbtf5a577f6hd3e8ffpt9642n2b63t6dd5unf8b2at3dbb92hdufeefh5ffydt2e5an62n6fua2ufnfhtkyanb8f655b569kd3afkt868h3tdh34k95ak769ak75p5he4645237ah7eh4a9fdee39et3n3882n3afude5d9kbb469afythdne5yt6ybb4f9a3nttth9b93e8h6ha9pyfydaekbu72upyhubep49p4t7btf69hf6ttpyufnde5ae2h2h68ydh9np4d38f4yt7p9k7t4d42674b2tdnty8yu3a33kh6t68f6ap5ty9ake9394bd8e96btbuh39y6ka7k2fdn84pdp37ba2fa8h87794ay7786u95264kbt5ht7t7pe9h9b25ha796u54u33pp2nkbk9u578kt2apeuuhyd9dd2pkf8dh355b5h9hk2peuddty9dh5f9pup8uku62k9498k236p542eh46aa5kt9e3pkbkkd25htapkf386u57t3u9dt9kf4tke2254k5apn99ht93k5e9u9nbu7kknt749f8hh7b78hh7b74ydeby56ehad8efbbd4h7fk48ayfdh43tt92ea8464k4aph395pf8hd76n9t5ek5f2fpnu2huu9n8nbnee8upft9pf57n9b3a3hup7h9db7k883phd32hhk4buda3564kehh23na79tba84kpff3db4895hepyfya86y99t9en9ay78unnhh28u8byn3a8hkb4k2h5yh7au4kp533f5d9fdtb3b85bekb9dh599a84nnn8fh4u83bdk7u8db6a4uab4t34y26y99n7y8dukn5btb2ntdebhdfn6eh9by9pf3hpapu8ene7hf222y8yhh97nttdn69tf63pph9by393h9p9ny9te9b2k6283df7y6np9hyhbh69fp9udphn86fp57eeb76b3a2u22n7d26pb2d4bkdpb53a5aa99p9y8yp98nepuhu75eak4hyaeytk369ybh58ytf52u7bby27bhdk382u8pe6n2f7khbnhy4fpb73yf94yb63td3ub4e239tbb32tk39kn7u9629aae6nyh9f78h796pb9y8n37a87f7h8ht4t54kdp6786tufhyy6n6kyhayeupyaeepdphpak6d2n55ene98fa53ufkunfau798y26he64pdt5284d9kb8yf6t4k7b7unthpdn2p925ndd952f7ee2e887a9tuhy29p5ha3p22yna8at7f99t56fh4at32fph64y25832nhppd39d8p4h89244nten7t7pfd4kphdtep547pf46d2bp3de54ubb6ep6u889fk43y8y478y4aya34kn6d584yafhp7ka7853anyab53yyhn2kef3337k3a987h2pb435f943kuan2u9b4kdunkdfute2pk8bun2f89ke5bbba467yp3y3faebyt69879eefpat7kn6ubk6e4h5nay38uh64ubn7hkpf2bnh9k35tpyp9e6y55n5k7ak6h79a4ddf5h7yh82p9ue8ke33kpp3eaun42bpu3d44y8pkeh4633puf77uh58ea98f5dfbh5p9nd3n466b6apduytn6ped555uy58ta95b6f9ndp8upnbp967n9bkpeehutf7ef35466kebu34yb2p88p9tpy63a868a2dn94fyf5d78p6ad2be98n85e2fphfee7ap5n9pubp5p5h9f7f92pyp54af2teb2f2944k8yn7det7pndnu79nn6n2e57teh9det852bet5aytn2f585k6b93tbt45kete62b7nf5p4fun7f9du8enbf8tuha24922pbfdt9hhn5e9khpyy3dt736tku4d8k757699y6tah8d6tah8d4ufhyya67nppb8f4f3p7459t6n6878kb9en9ne7yb8tn44a69kutt5eabf7he4hbeppp55pt69t5epfkbdfn8ypptf8u4782y8t38ed7n2fk2h87ph7b4b7p4nn6pyn6nhb826bykbe29t4n5hth373eu7hb9yb3nt6ktefud22u2d22b5f5nufet5656h224498fu4t5kdeby749pndpyhyk55pbun43b893n6hpy6y3uf2t3h746fn4a2f4485bb2ypdhbeu676fh438d52puufkfphtn6fk8kyuu9dekfk8p8e2de24kyeuy4dd9tp7dh39pd7f276e7nnb7y8ehue6k3998ak87ukfhn3422p2tfne59dk558k3y5hydt8thu4p4fabnnefk22ehtph7ah3d58kdb582bd8ktp4tbfp3b9dfftkh4nba62e2f2bnduedun7byph97642ya48at2k65h3t6ptaeyunb94p962eyfe3e2397y4y3bae34pfy7yffya8phfd5ba67a6p2n6p6dyb4apfnk5eea9dpyy4ff2npuad8p33uufhan3hd5u3984b3kbe2bnekdtka9hhp23pp79ten9fbt2ta4bdf2eud56takfu2httu383nat6tnp8f55bkf84u85398b65ybhpddyp8p4u42n3796ykd33ye9y79d474n53ha82hyddaue6hfee98ay4btk69bp9n3a28thn4nfd966p5u798nd6thkf35p4bkh4at39ky9pddt7fa54kk5p6t74ba6e7u97pu6afnkb7kf2bedh48kpn8345ne53thh8yndpb6nh6dhhdb8h7k4kfu78h54h4f95n52a25u8y94b79byu8eay8y74kunty5435f77hayk82e4pk3u87ybdd5d9unak5p67d37nk2t597pny8yu43epyutf4pyynf564a3384y5knbfny42t392a8byf5na75h66nf742e6593kheu55h735769nynppn7ahbun4n6tn5nheu6bty2u2y7f86k54hbkb5234dty8a49n7b682t9t6abp4au9e7ad2de94ap44e685et8fdnepeffdu38dba9dunhtkptf925e2a2hebffyn449dh8ha7tyup23ap3p6efp4ypny5an64n733dkyfndk28yp468p878f5y474pt6a82efat35e8358pu334buu2k8fe9ppa75h8eyf8927dfape388d5fb36nd5a43y67t232kpuuk36983d5f5hatb82na8at258ky6etd23kn9f82y642de4td2yy7kh5n8d4kh29n7bf2326f3kk5h39u4ne8upnu6bny922yd4uu9bbun6785yhkf9utk5th5htk6a3d6u26e3uy7u867fnt5bh529456y57n5f94utbn8ypne2e3ka84h9yftnhyekepbuhnhe6432f7afu67e38nbtu9dyanktkk5pan6e8uedy58p93u53du269hd56tk8ktt564tk38884fk47y4ddy5p96424k3an2kp55f28599h57dt3hb3pb8ad75f5fptthh3ebkk72yae865h4fbu38uu2e5fu7uu83a283b25a7ybfnpk59ak3e85b99b5un6yd6pk797n2y6ebd37kdyh95ed275n69et5hkuyf697t53bhhek47t26tkt38bn5p7yf97yd69uk44nt4fktkffudabdp39ayk2f2eh8nyh89ud24dt3ethud3hnh3htpak3euu522d9h8yde3fbp98u54t2dpyf58tdntdn7nne93efftf5b793be739ehyu33f22t96uuffnu28b49d9497543n5ut4dktu4b293586y44u42d49dna4npy78d63u338bt7tnh73k53t8uy322n8the857fht9hnhb4kt9t3d25ytytuyheyk43tppde73t75956ak3teddad72ht9h7dhd7hdkd986y889h7y65bhbe8dau7f3np5fnyef38d4y5a2d43y4fbae2pppk6p7t7e8ah6742d69ubnaa89nt6ayny74239f7b77k325ub95hdh4ha883u79tnfuhn3hk94t6tpe4d66u7bhnke8kyed3ktbba7a2yydbh4yye4u2e2t77pyyhp2h5t57pnedkhp9956np3na9yd5upu55uk7a5d48fukd4afbbp8f7eu53u9d3nu87a8e3p4ayh244f9e8edd3nkkykue5kbayb6pket346f4by23a7k25kb5f556db77k2543uykfau64ybth8h9bnt7te924atpd3nt96h54h3ff6k9p43227f28ke2nfdkn4kehta7ft4a22h7a3aua2ukt5y29t2fpd5kp936na5tf2atn7ftkp9ek8at8n8h3h9htet8ufe2f6h8d44y95hpt3nbuh3k5hepdy3aukf2f5tn75ykt8k8e3nhh5u7ky82tn9tk7u378duahu58379h7p3un665k4enpayet69429pp495f5nnn5y77b59t8dfu8a38nnandf9fa9hpah8den2adaf99u93bpntauf2pfa5phne3hthpenefb8y797y59h996ah44b6hkkdakn9pb8pbyud92a7573d3yntk6nf8n4e826upue26bu237bdb973yte247pd48dkyf2ptbtuhn4hynh8p6fnbyt96tkf3n749a2f93t3ntub4u9hffbuyy29h8ybe55en3ath6p76ua2ey56he887yu69f2fe2ppp9b86dfk2y67tdkbttya7dkf8appa596f969tp6btb28uytb7tf99h7kd4ya8pp535btayde676ffy5ykydpkunbh4a329e4t7tuf97p96b4dpbuntd29td85ayde59une4b5h7eay3h8k5t9kdp322y48a773896bfp9y3823afhb2h5k52b2hhd7kpn866euk849p7b788tppff35b85dtef2437efyf645uua6t84y4969yhfe5t7fda7efd93k7edfeyea5bk7nyn9kk9fya7hu59eftyht7ae8t5uebt69e7k86dfetteby3fk4dp8tyk27y29edadu52t877h46nay9ae6u8e7ebeuh4bhte9d3yp89k5aabnfdb8y3uy2'"
      ]
     },
     "execution_count": 1,
     "metadata": {},
     "output_type": "execute_result"
    }
   ],
   "source": [
    "with open('label.csv', 'r') as file:\n",
    "    data = file.read().replace('\\n', '')\n",
    "    \n",
    "data"
   ]
  },
  {
   "cell_type": "code",
   "execution_count": 2,
   "metadata": {},
   "outputs": [
    {
     "name": "stdout",
     "output_type": "stream",
     "text": [
      "['2', '3', '4', '5', '6', '7', '8', '9', 'a', 'b', 'd', 'e', 'f', 'h', 'k', 'n', 'p', 't', 'u', 'y']\n"
     ]
    }
   ],
   "source": [
    "chars = '1234567890abcdefghijklmnopqrstuvwxyzABCDEFGHIJKLMNOPQRSTUVWXYZ'\n",
    "allows = []\n",
    "for ch in chars:\n",
    "    if ch in allows:\n",
    "        continue\n",
    "    if ch in data:\n",
    "        allows.append(ch)\n",
    "\n",
    "print(allows)"
   ]
  },
  {
   "cell_type": "code",
   "execution_count": 3,
   "metadata": {},
   "outputs": [
    {
     "name": "stdout",
     "output_type": "stream",
     "text": [
      "23456789abdefhknptuy\n"
     ]
    }
   ],
   "source": [
    "print(''.join(allows))"
   ]
  },
  {
   "cell_type": "code",
   "execution_count": null,
   "metadata": {},
   "outputs": [],
   "source": []
  }
 ],
 "metadata": {
  "kernelspec": {
   "display_name": "Python 3",
   "language": "python",
   "name": "python3"
  },
  "language_info": {
   "codemirror_mode": {
    "name": "ipython",
    "version": 3
   },
   "file_extension": ".py",
   "mimetype": "text/x-python",
   "name": "python",
   "nbconvert_exporter": "python",
   "pygments_lexer": "ipython3",
   "version": "3.8.3"
  }
 },
 "nbformat": 4,
 "nbformat_minor": 4
}
