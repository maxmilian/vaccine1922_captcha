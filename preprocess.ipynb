{
 "cells": [
  {
   "cell_type": "code",
   "execution_count": null,
   "metadata": {},
   "outputs": [],
   "source": [
    "import os, random, cv2\n",
    "import matplotlib.pyplot as plt\n",
    "import numpy as np\n",
    "\n",
    "CAPTCHA_FOLDER = \"captcha/\"\n",
    "PROCESSED_FOLDER = \"processed/\"\n",
    "\n",
    "filename = random.choice(os.listdir(CAPTCHA_FOLDER))\n",
    "img = cv2.imread(CAPTCHA_FOLDER + filename)\n",
    "\n",
    "plt.imshow(img)\n",
    "plt.show()\n",
    "filename"
   ]
  },
  {
   "cell_type": "code",
   "execution_count": null,
   "metadata": {},
   "outputs": [],
   "source": [
    "img.shape"
   ]
  },
  {
   "cell_type": "code",
   "execution_count": null,
   "metadata": {},
   "outputs": [],
   "source": [
    "img = cv2.cvtColor(img, cv2.COLOR_BGR2GRAY) "
   ]
  },
  {
   "cell_type": "code",
   "execution_count": null,
   "metadata": {},
   "outputs": [],
   "source": [
    "crop = img[5:img.shape[0]-5, 5:img.shape[1]-5]\n",
    "threshold = cv2.adaptiveThreshold(crop, 255, cv2.ADAPTIVE_THRESH_MEAN_C, cv2.THRESH_BINARY, 11, 2)\n",
    "kernel = np.ones((3,3), np.uint8)\n",
    "opening = cv2.morphologyEx(threshold, cv2.MORPH_CLOSE, kernel)\n",
    "\n",
    "plt.subplot(411)\n",
    "plt.imshow(img)\n",
    "plt.subplot(412)\n",
    "plt.imshow(crop)\n",
    "plt.subplot(413)\n",
    "plt.imshow(threshold)\n",
    "plt.subplot(414)\n",
    "plt.imshow(opening)\n",
    "plt.show()"
   ]
  },
  {
   "cell_type": "code",
   "execution_count": null,
   "metadata": {},
   "outputs": [],
   "source": [
    "cv2.imwrite(PROCESSED_FOLDER + filename, opening)"
   ]
  },
  {
   "cell_type": "code",
   "execution_count": null,
   "metadata": {},
   "outputs": [],
   "source": []
  }
 ],
 "metadata": {
  "kernelspec": {
   "display_name": "Python 3",
   "language": "python",
   "name": "python3"
  },
  "language_info": {
   "codemirror_mode": {
    "name": "ipython",
    "version": 3
   },
   "file_extension": ".py",
   "mimetype": "text/x-python",
   "name": "python",
   "nbconvert_exporter": "python",
   "pygments_lexer": "ipython3",
   "version": "3.8.3"
  }
 },
 "nbformat": 4,
 "nbformat_minor": 4
}
