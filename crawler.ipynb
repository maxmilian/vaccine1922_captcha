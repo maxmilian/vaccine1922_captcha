{
 "cells": [
  {
   "cell_type": "code",
   "execution_count": null,
   "metadata": {},
   "outputs": [],
   "source": [
    "import os\n",
    "import requests\n",
    "import shutil\n",
    "import random\n",
    "\n",
    "CAPTCHA_DIR = \"captcha/\"\n",
    "num = 1200\n",
    "\n",
    "url = \"https://1922.gov.tw/vas/\"\n",
    "sess = requests.session()\n",
    "result = sess.get(url)"
   ]
  },
  {
   "cell_type": "code",
   "execution_count": null,
   "metadata": {},
   "outputs": [],
   "source": [
    "captcha_url = \"https://1922.gov.tw/vas/validateCodeService.do?\"\n",
    "\n",
    "i = 1\n",
    "\n",
    "#ignore existing image\n",
    "while True:\n",
    "    i += 1\n",
    "    filename = CAPTCHA_DIR + str(i) + '.jpg'\n",
    "    if not os.path.isfile(filename):\n",
    "        break\n",
    "\n",
    "while i <= num:\n",
    "    r = sess.get(captcha_url + str(random.random()), stream=True)\n",
    "    path = CAPTCHA_DIR + str(i) + \".jpg\"\n",
    "    with open(path, 'wb') as handler:\n",
    "        handler.write(r.content)\n",
    "    print(i)\n",
    "    i += 1\n",
    "\n",
    "print(\"completed\")"
   ]
  },
  {
   "cell_type": "code",
   "execution_count": null,
   "metadata": {},
   "outputs": [],
   "source": []
  }
 ],
 "metadata": {
  "kernelspec": {
   "display_name": "Python 3",
   "language": "python",
   "name": "python3"
  },
  "language_info": {
   "codemirror_mode": {
    "name": "ipython",
    "version": 3
   },
   "file_extension": ".py",
   "mimetype": "text/x-python",
   "name": "python",
   "nbconvert_exporter": "python",
   "pygments_lexer": "ipython3",
   "version": "3.8.3"
  }
 },
 "nbformat": 4,
 "nbformat_minor": 4
}
