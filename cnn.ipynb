{
 "cells": [
  {
   "cell_type": "code",
   "execution_count": 1,
   "metadata": {},
   "outputs": [],
   "source": [
    "import os, cv2, csv\n",
    "import numpy as np\n",
    "from keras.models import load_model\n",
    "from keras.utils import np_utils\n",
    "from keras.callbacks import ModelCheckpoint, EarlyStopping, TensorBoard\n",
    "from utilities import one_hot_encoding, read_train_data, read_label_data, show_train_history\n",
    "from utilities import build_vgg_model, build_resnet50_model, build_inceptionv3_model\n",
    "\n",
    "SIZE = 1000\n",
    "MODEL_FOLDER = \"model/\"\n",
    "WIDTH = 135\n",
    "HEIGHT = 35\n",
    "IMG_SIZE = WIDTH if WIDTH > HEIGHT else HEIGHT\n",
    "NUM_DIGIT = 6\n",
    "PROCESSED_FOLDER = \"processed/\"\n",
    "LABEL_CSV_FILE = 'label.csv'\n",
    "allowedChars = '23456789abdefhknptuy';"
   ]
  },
  {
   "cell_type": "code",
   "execution_count": 2,
   "metadata": {},
   "outputs": [
    {
     "name": "stdout",
     "output_type": "stream",
     "text": [
      "Model: \"functional_1\"\n",
      "__________________________________________________________________________________________________\n",
      "Layer (type)                    Output Shape         Param #     Connected to                     \n",
      "==================================================================================================\n",
      "input_1 (InputLayer)            [(None, 35, 135, 3)] 0                                            \n",
      "__________________________________________________________________________________________________\n",
      "conv2d (Conv2D)                 (None, 35, 135, 32)  896         input_1[0][0]                    \n",
      "__________________________________________________________________________________________________\n",
      "conv2d_1 (Conv2D)               (None, 35, 135, 32)  9248        conv2d[0][0]                     \n",
      "__________________________________________________________________________________________________\n",
      "max_pooling2d (MaxPooling2D)    (None, 17, 67, 32)   0           conv2d_1[0][0]                   \n",
      "__________________________________________________________________________________________________\n",
      "conv2d_2 (Conv2D)               (None, 17, 67, 64)   18496       max_pooling2d[0][0]              \n",
      "__________________________________________________________________________________________________\n",
      "conv2d_3 (Conv2D)               (None, 17, 67, 64)   36928       conv2d_2[0][0]                   \n",
      "__________________________________________________________________________________________________\n",
      "max_pooling2d_1 (MaxPooling2D)  (None, 8, 33, 64)    0           conv2d_3[0][0]                   \n",
      "__________________________________________________________________________________________________\n",
      "conv2d_4 (Conv2D)               (None, 8, 33, 128)   73856       max_pooling2d_1[0][0]            \n",
      "__________________________________________________________________________________________________\n",
      "conv2d_5 (Conv2D)               (None, 8, 33, 128)   147584      conv2d_4[0][0]                   \n",
      "__________________________________________________________________________________________________\n",
      "batch_normalization (BatchNorma (None, 8, 33, 128)   32          conv2d_5[0][0]                   \n",
      "__________________________________________________________________________________________________\n",
      "max_pooling2d_2 (MaxPooling2D)  (None, 4, 16, 128)   0           batch_normalization[0][0]        \n",
      "__________________________________________________________________________________________________\n",
      "conv2d_6 (Conv2D)               (None, 4, 16, 256)   295168      max_pooling2d_2[0][0]            \n",
      "__________________________________________________________________________________________________\n",
      "conv2d_7 (Conv2D)               (None, 4, 16, 256)   590080      conv2d_6[0][0]                   \n",
      "__________________________________________________________________________________________________\n",
      "max_pooling2d_3 (MaxPooling2D)  (None, 2, 8, 256)    0           conv2d_7[0][0]                   \n",
      "__________________________________________________________________________________________________\n",
      "conv2d_8 (Conv2D)               (None, 2, 8, 512)    1180160     max_pooling2d_3[0][0]            \n",
      "__________________________________________________________________________________________________\n",
      "batch_normalization_1 (BatchNor (None, 2, 8, 512)    8           conv2d_8[0][0]                   \n",
      "__________________________________________________________________________________________________\n",
      "max_pooling2d_4 (MaxPooling2D)  (None, 1, 4, 512)    0           batch_normalization_1[0][0]      \n",
      "__________________________________________________________________________________________________\n",
      "flatten (Flatten)               (None, 2048)         0           max_pooling2d_4[0][0]            \n",
      "__________________________________________________________________________________________________\n",
      "dropout (Dropout)               (None, 2048)         0           flatten[0][0]                    \n",
      "__________________________________________________________________________________________________\n",
      "digit1 (Dense)                  (None, 20)           40980       dropout[0][0]                    \n",
      "__________________________________________________________________________________________________\n",
      "digit2 (Dense)                  (None, 20)           40980       dropout[0][0]                    \n",
      "__________________________________________________________________________________________________\n",
      "digit3 (Dense)                  (None, 20)           40980       dropout[0][0]                    \n",
      "__________________________________________________________________________________________________\n",
      "digit4 (Dense)                  (None, 20)           40980       dropout[0][0]                    \n",
      "__________________________________________________________________________________________________\n",
      "digit5 (Dense)                  (None, 20)           40980       dropout[0][0]                    \n",
      "__________________________________________________________________________________________________\n",
      "digit6 (Dense)                  (None, 20)           40980       dropout[0][0]                    \n",
      "==================================================================================================\n",
      "Total params: 2,598,336\n",
      "Trainable params: 2,598,316\n",
      "Non-trainable params: 20\n",
      "__________________________________________________________________________________________________\n"
     ]
    }
   ],
   "source": [
    "model = build_vgg_model(WIDTH, HEIGHT, allowedChars, NUM_DIGIT)\n",
    "# model = build_inceptionv3_model(IMG_SIZE, allowedChars, NUM_DIGIT)\n",
    "# model = build_resnet50_model(WIDTH, HEIGHT, allowedChars, NUM_DIGIT)"
   ]
  },
  {
   "cell_type": "code",
   "execution_count": 3,
   "metadata": {
    "scrolled": true
   },
   "outputs": [
    {
     "name": "stdout",
     "output_type": "stream",
     "text": [
      "Reading training data...\n",
      "Reading completed\n"
     ]
    }
   ],
   "source": [
    "print(\"Reading training data...\")\n",
    "\n",
    "train_data = read_train_data(PROCESSED_FOLDER, SIZE)\n",
    "train_label = read_label_data(LABEL_CSV_FILE, allowedChars, NUM_DIGIT, SIZE)\n",
    "\n",
    "print(\"Reading completed\")"
   ]
  },
  {
   "cell_type": "code",
   "execution_count": 4,
   "metadata": {},
   "outputs": [],
   "source": [
    "filepath = MODEL_FOLDER + \"{epoch:02d}-{loss:.2f}-{val_loss:.2f}.hdf5\"\n",
    "checkpoint = ModelCheckpoint(filepath, monitor='val_digit4_accuracy', verbose=1, save_best_only=True, mode='max')\n",
    "earlystop = EarlyStopping(monitor='val_loss', patience=8, verbose=1, mode='auto')\n",
    "tensorBoard = TensorBoard(log_dir = 'logs', histogram_freq = 1)\n",
    "callbacks_list = [tensorBoard, earlystop, checkpoint]"
   ]
  },
  {
   "cell_type": "code",
   "execution_count": 5,
   "metadata": {},
   "outputs": [],
   "source": [
    "# model = load_model(\"vaccine1922_model.hdf5\")"
   ]
  },
  {
   "cell_type": "code",
   "execution_count": null,
   "metadata": {},
   "outputs": [
    {
     "name": "stdout",
     "output_type": "stream",
     "text": [
      "Epoch 1/100\n",
      " 1/16 [>.............................] - ETA: 0s - loss: 33.1181 - digit1_loss: 5.1738 - digit2_loss: 7.4255 - digit3_loss: 5.8013 - digit4_loss: 5.1471 - digit5_loss: 4.7206 - digit6_loss: 4.8498 - digit1_accuracy: 0.0800 - digit2_accuracy: 0.0600 - digit3_accuracy: 0.1000 - digit4_accuracy: 0.0200 - digit5_accuracy: 0.1200 - digit6_accuracy: 0.0400WARNING:tensorflow:From /Users/maxmilian/miniconda3/lib/python3.8/site-packages/tensorflow/python/ops/summary_ops_v2.py:1277: stop (from tensorflow.python.eager.profiler) is deprecated and will be removed after 2020-07-01.\n",
      "Instructions for updating:\n",
      "use `tf.profiler.experimental.stop` instead.\n",
      "16/16 [==============================] - ETA: 0s - loss: 28.1254 - digit1_loss: 4.6251 - digit2_loss: 4.9425 - digit3_loss: 4.8377 - digit4_loss: 4.5016 - digit5_loss: 4.4971 - digit6_loss: 4.7213 - digit1_accuracy: 0.0500 - digit2_accuracy: 0.0425 - digit3_accuracy: 0.0538 - digit4_accuracy: 0.0600 - digit5_accuracy: 0.0512 - digit6_accuracy: 0.0450\n",
      "Epoch 00001: val_digit4_accuracy improved from -inf to 0.05500, saving model to model/01-28.13-20.42.hdf5\n",
      "16/16 [==============================] - 18s 1s/step - loss: 28.1254 - digit1_loss: 4.6251 - digit2_loss: 4.9425 - digit3_loss: 4.8377 - digit4_loss: 4.5016 - digit5_loss: 4.4971 - digit6_loss: 4.7213 - digit1_accuracy: 0.0500 - digit2_accuracy: 0.0425 - digit3_accuracy: 0.0538 - digit4_accuracy: 0.0600 - digit5_accuracy: 0.0512 - digit6_accuracy: 0.0450 - val_loss: 20.4151 - val_digit1_loss: 3.4651 - val_digit2_loss: 3.6900 - val_digit3_loss: 3.2158 - val_digit4_loss: 3.4260 - val_digit5_loss: 3.2421 - val_digit6_loss: 3.3760 - val_digit1_accuracy: 0.0500 - val_digit2_accuracy: 0.0750 - val_digit3_accuracy: 0.0500 - val_digit4_accuracy: 0.0550 - val_digit5_accuracy: 0.0600 - val_digit6_accuracy: 0.0300\n",
      "Epoch 2/100\n",
      "16/16 [==============================] - ETA: 0s - loss: 24.4347 - digit1_loss: 4.0585 - digit2_loss: 4.1299 - digit3_loss: 4.0697 - digit4_loss: 4.0823 - digit5_loss: 4.0552 - digit6_loss: 4.0392 - digit1_accuracy: 0.0400 - digit2_accuracy: 0.0625 - digit3_accuracy: 0.0463 - digit4_accuracy: 0.0525 - digit5_accuracy: 0.0512 - digit6_accuracy: 0.0538\n",
      "Epoch 00002: val_digit4_accuracy did not improve from 0.05500\n",
      "16/16 [==============================] - 20s 1s/step - loss: 24.4347 - digit1_loss: 4.0585 - digit2_loss: 4.1299 - digit3_loss: 4.0697 - digit4_loss: 4.0823 - digit5_loss: 4.0552 - digit6_loss: 4.0392 - digit1_accuracy: 0.0400 - digit2_accuracy: 0.0625 - digit3_accuracy: 0.0463 - digit4_accuracy: 0.0525 - digit5_accuracy: 0.0512 - digit6_accuracy: 0.0538 - val_loss: 19.3438 - val_digit1_loss: 3.3041 - val_digit2_loss: 3.2142 - val_digit3_loss: 3.2373 - val_digit4_loss: 3.2301 - val_digit5_loss: 3.1427 - val_digit6_loss: 3.2154 - val_digit1_accuracy: 0.0600 - val_digit2_accuracy: 0.0550 - val_digit3_accuracy: 0.0750 - val_digit4_accuracy: 0.0200 - val_digit5_accuracy: 0.0600 - val_digit6_accuracy: 0.0700\n",
      "Epoch 3/100\n",
      "16/16 [==============================] - ETA: 0s - loss: 23.8437 - digit1_loss: 3.9738 - digit2_loss: 3.9531 - digit3_loss: 3.9728 - digit4_loss: 3.9775 - digit5_loss: 3.9814 - digit6_loss: 3.9852 - digit1_accuracy: 0.0413 - digit2_accuracy: 0.0425 - digit3_accuracy: 0.0487 - digit4_accuracy: 0.0400 - digit5_accuracy: 0.0450 - digit6_accuracy: 0.0512\n",
      "Epoch 00003: val_digit4_accuracy did not improve from 0.05500\n",
      "16/16 [==============================] - 17s 1s/step - loss: 23.8437 - digit1_loss: 3.9738 - digit2_loss: 3.9531 - digit3_loss: 3.9728 - digit4_loss: 3.9775 - digit5_loss: 3.9814 - digit6_loss: 3.9852 - digit1_accuracy: 0.0413 - digit2_accuracy: 0.0425 - digit3_accuracy: 0.0487 - digit4_accuracy: 0.0400 - digit5_accuracy: 0.0450 - digit6_accuracy: 0.0512 - val_loss: 18.5210 - val_digit1_loss: 3.0246 - val_digit2_loss: 3.2579 - val_digit3_loss: 2.9874 - val_digit4_loss: 3.1175 - val_digit5_loss: 3.0739 - val_digit6_loss: 3.0598 - val_digit1_accuracy: 0.0500 - val_digit2_accuracy: 0.0400 - val_digit3_accuracy: 0.0700 - val_digit4_accuracy: 0.0450 - val_digit5_accuracy: 0.0500 - val_digit6_accuracy: 0.0450\n",
      "Epoch 4/100\n",
      "16/16 [==============================] - ETA: 0s - loss: 23.4966 - digit1_loss: 3.9867 - digit2_loss: 3.9443 - digit3_loss: 3.8680 - digit4_loss: 3.8531 - digit5_loss: 3.9273 - digit6_loss: 3.9173 - digit1_accuracy: 0.0413 - digit2_accuracy: 0.0400 - digit3_accuracy: 0.0463 - digit4_accuracy: 0.0625 - digit5_accuracy: 0.0413 - digit6_accuracy: 0.0413\n",
      "Epoch 00004: val_digit4_accuracy did not improve from 0.05500\n",
      "16/16 [==============================] - 16s 1s/step - loss: 23.4966 - digit1_loss: 3.9867 - digit2_loss: 3.9443 - digit3_loss: 3.8680 - digit4_loss: 3.8531 - digit5_loss: 3.9273 - digit6_loss: 3.9173 - digit1_accuracy: 0.0413 - digit2_accuracy: 0.0400 - digit3_accuracy: 0.0463 - digit4_accuracy: 0.0625 - digit5_accuracy: 0.0413 - digit6_accuracy: 0.0413 - val_loss: 18.3973 - val_digit1_loss: 3.0745 - val_digit2_loss: 3.0930 - val_digit3_loss: 3.0129 - val_digit4_loss: 3.0994 - val_digit5_loss: 3.0485 - val_digit6_loss: 3.0690 - val_digit1_accuracy: 0.0500 - val_digit2_accuracy: 0.0700 - val_digit3_accuracy: 0.0850 - val_digit4_accuracy: 0.0450 - val_digit5_accuracy: 0.0600 - val_digit6_accuracy: 0.0300\n",
      "Epoch 5/100\n",
      "16/16 [==============================] - ETA: 0s - loss: 23.0928 - digit1_loss: 3.8984 - digit2_loss: 3.8008 - digit3_loss: 3.8502 - digit4_loss: 3.7887 - digit5_loss: 3.8596 - digit6_loss: 3.8952 - digit1_accuracy: 0.0487 - digit2_accuracy: 0.0375 - digit3_accuracy: 0.0350 - digit4_accuracy: 0.0512 - digit5_accuracy: 0.0613 - digit6_accuracy: 0.0463\n",
      "Epoch 00005: val_digit4_accuracy did not improve from 0.05500\n",
      "16/16 [==============================] - 16s 994ms/step - loss: 23.0928 - digit1_loss: 3.8984 - digit2_loss: 3.8008 - digit3_loss: 3.8502 - digit4_loss: 3.7887 - digit5_loss: 3.8596 - digit6_loss: 3.8952 - digit1_accuracy: 0.0487 - digit2_accuracy: 0.0375 - digit3_accuracy: 0.0350 - digit4_accuracy: 0.0512 - digit5_accuracy: 0.0613 - digit6_accuracy: 0.0463 - val_loss: 18.2931 - val_digit1_loss: 3.0758 - val_digit2_loss: 3.0776 - val_digit3_loss: 3.0317 - val_digit4_loss: 3.0250 - val_digit5_loss: 3.0385 - val_digit6_loss: 3.0445 - val_digit1_accuracy: 0.0550 - val_digit2_accuracy: 0.0550 - val_digit3_accuracy: 0.0750 - val_digit4_accuracy: 0.0500 - val_digit5_accuracy: 0.0500 - val_digit6_accuracy: 0.0450\n",
      "Epoch 6/100\n",
      "16/16 [==============================] - ETA: 0s - loss: 22.8234 - digit1_loss: 3.7725 - digit2_loss: 3.8510 - digit3_loss: 3.7888 - digit4_loss: 3.7747 - digit5_loss: 3.8543 - digit6_loss: 3.7821 - digit1_accuracy: 0.0538 - digit2_accuracy: 0.0487 - digit3_accuracy: 0.0575 - digit4_accuracy: 0.0487 - digit5_accuracy: 0.0475 - digit6_accuracy: 0.0575\n",
      "Epoch 00006: val_digit4_accuracy did not improve from 0.05500\n",
      "16/16 [==============================] - 16s 1s/step - loss: 22.8234 - digit1_loss: 3.7725 - digit2_loss: 3.8510 - digit3_loss: 3.7888 - digit4_loss: 3.7747 - digit5_loss: 3.8543 - digit6_loss: 3.7821 - digit1_accuracy: 0.0538 - digit2_accuracy: 0.0487 - digit3_accuracy: 0.0575 - digit4_accuracy: 0.0487 - digit5_accuracy: 0.0475 - digit6_accuracy: 0.0575 - val_loss: 18.1747 - val_digit1_loss: 3.0130 - val_digit2_loss: 3.0294 - val_digit3_loss: 3.0272 - val_digit4_loss: 3.0576 - val_digit5_loss: 3.0131 - val_digit6_loss: 3.0345 - val_digit1_accuracy: 0.0600 - val_digit2_accuracy: 0.0400 - val_digit3_accuracy: 0.0850 - val_digit4_accuracy: 0.0200 - val_digit5_accuracy: 0.0850 - val_digit6_accuracy: 0.0300\n",
      "Epoch 7/100\n",
      "16/16 [==============================] - ETA: 0s - loss: 22.5738 - digit1_loss: 3.7159 - digit2_loss: 3.7545 - digit3_loss: 3.8708 - digit4_loss: 3.7540 - digit5_loss: 3.7744 - digit6_loss: 3.7041 - digit1_accuracy: 0.0700 - digit2_accuracy: 0.0500 - digit3_accuracy: 0.0512 - digit4_accuracy: 0.0487 - digit5_accuracy: 0.0475 - digit6_accuracy: 0.0425\n",
      "Epoch 00007: val_digit4_accuracy did not improve from 0.05500\n",
      "16/16 [==============================] - 16s 1s/step - loss: 22.5738 - digit1_loss: 3.7159 - digit2_loss: 3.7545 - digit3_loss: 3.8708 - digit4_loss: 3.7540 - digit5_loss: 3.7744 - digit6_loss: 3.7041 - digit1_accuracy: 0.0700 - digit2_accuracy: 0.0500 - digit3_accuracy: 0.0512 - digit4_accuracy: 0.0487 - digit5_accuracy: 0.0475 - digit6_accuracy: 0.0425 - val_loss: 18.1285 - val_digit1_loss: 3.0105 - val_digit2_loss: 3.0372 - val_digit3_loss: 2.9917 - val_digit4_loss: 3.0166 - val_digit5_loss: 3.0531 - val_digit6_loss: 3.0195 - val_digit1_accuracy: 0.0450 - val_digit2_accuracy: 0.0450 - val_digit3_accuracy: 0.0850 - val_digit4_accuracy: 0.0500 - val_digit5_accuracy: 0.0500 - val_digit6_accuracy: 0.0700\n",
      "Epoch 8/100\n",
      "16/16 [==============================] - ETA: 0s - loss: 22.4715 - digit1_loss: 3.7889 - digit2_loss: 3.7021 - digit3_loss: 3.8006 - digit4_loss: 3.7253 - digit5_loss: 3.7457 - digit6_loss: 3.7089 - digit1_accuracy: 0.0400 - digit2_accuracy: 0.0475 - digit3_accuracy: 0.0463 - digit4_accuracy: 0.0562 - digit5_accuracy: 0.0525 - digit6_accuracy: 0.0500\n",
      "Epoch 00008: val_digit4_accuracy did not improve from 0.05500\n",
      "16/16 [==============================] - 21s 1s/step - loss: 22.4715 - digit1_loss: 3.7889 - digit2_loss: 3.7021 - digit3_loss: 3.8006 - digit4_loss: 3.7253 - digit5_loss: 3.7457 - digit6_loss: 3.7089 - digit1_accuracy: 0.0400 - digit2_accuracy: 0.0475 - digit3_accuracy: 0.0463 - digit4_accuracy: 0.0562 - digit5_accuracy: 0.0525 - digit6_accuracy: 0.0500 - val_loss: 18.1734 - val_digit1_loss: 3.0451 - val_digit2_loss: 3.0414 - val_digit3_loss: 3.0171 - val_digit4_loss: 3.0444 - val_digit5_loss: 2.9918 - val_digit6_loss: 3.0336 - val_digit1_accuracy: 0.0300 - val_digit2_accuracy: 0.0700 - val_digit3_accuracy: 0.0350 - val_digit4_accuracy: 0.0550 - val_digit5_accuracy: 0.0750 - val_digit6_accuracy: 0.0300\n",
      "Epoch 9/100\n",
      "16/16 [==============================] - ETA: 0s - loss: 22.0224 - digit1_loss: 3.7100 - digit2_loss: 3.6800 - digit3_loss: 3.6053 - digit4_loss: 3.6441 - digit5_loss: 3.6568 - digit6_loss: 3.7261 - digit1_accuracy: 0.0500 - digit2_accuracy: 0.0475 - digit3_accuracy: 0.0538 - digit4_accuracy: 0.0525 - digit5_accuracy: 0.0750 - digit6_accuracy: 0.0500\n",
      "Epoch 00009: val_digit4_accuracy improved from 0.05500 to 0.06000, saving model to model/09-22.02-18.08.hdf5\n",
      "16/16 [==============================] - 27s 2s/step - loss: 22.0224 - digit1_loss: 3.7100 - digit2_loss: 3.6800 - digit3_loss: 3.6053 - digit4_loss: 3.6441 - digit5_loss: 3.6568 - digit6_loss: 3.7261 - digit1_accuracy: 0.0500 - digit2_accuracy: 0.0475 - digit3_accuracy: 0.0538 - digit4_accuracy: 0.0525 - digit5_accuracy: 0.0750 - digit6_accuracy: 0.0500 - val_loss: 18.0845 - val_digit1_loss: 2.9983 - val_digit2_loss: 3.0222 - val_digit3_loss: 3.0297 - val_digit4_loss: 2.9995 - val_digit5_loss: 3.0361 - val_digit6_loss: 2.9987 - val_digit1_accuracy: 0.0550 - val_digit2_accuracy: 0.0400 - val_digit3_accuracy: 0.0550 - val_digit4_accuracy: 0.0600 - val_digit5_accuracy: 0.0350 - val_digit6_accuracy: 0.0550\n",
      "Epoch 10/100\n",
      "16/16 [==============================] - ETA: 0s - loss: 21.7767 - digit1_loss: 3.6016 - digit2_loss: 3.6001 - digit3_loss: 3.6446 - digit4_loss: 3.6120 - digit5_loss: 3.6843 - digit6_loss: 3.6342 - digit1_accuracy: 0.0475 - digit2_accuracy: 0.0475 - digit3_accuracy: 0.0475 - digit4_accuracy: 0.0475 - digit5_accuracy: 0.0475 - digit6_accuracy: 0.0538\n",
      "Epoch 00010: val_digit4_accuracy did not improve from 0.06000\n",
      "16/16 [==============================] - 21s 1s/step - loss: 21.7767 - digit1_loss: 3.6016 - digit2_loss: 3.6001 - digit3_loss: 3.6446 - digit4_loss: 3.6120 - digit5_loss: 3.6843 - digit6_loss: 3.6342 - digit1_accuracy: 0.0475 - digit2_accuracy: 0.0475 - digit3_accuracy: 0.0475 - digit4_accuracy: 0.0475 - digit5_accuracy: 0.0475 - digit6_accuracy: 0.0538 - val_loss: 18.1379 - val_digit1_loss: 3.0316 - val_digit2_loss: 3.0586 - val_digit3_loss: 3.0098 - val_digit4_loss: 3.0175 - val_digit5_loss: 3.0102 - val_digit6_loss: 3.0101 - val_digit1_accuracy: 0.0500 - val_digit2_accuracy: 0.0450 - val_digit3_accuracy: 0.0750 - val_digit4_accuracy: 0.0600 - val_digit5_accuracy: 0.0750 - val_digit6_accuracy: 0.0500\n",
      "Epoch 11/100\n",
      "16/16 [==============================] - ETA: 0s - loss: 21.6107 - digit1_loss: 3.5946 - digit2_loss: 3.6511 - digit3_loss: 3.6645 - digit4_loss: 3.5543 - digit5_loss: 3.5633 - digit6_loss: 3.5830 - digit1_accuracy: 0.0637 - digit2_accuracy: 0.0388 - digit3_accuracy: 0.0463 - digit4_accuracy: 0.0600 - digit5_accuracy: 0.0437 - digit6_accuracy: 0.0562\n",
      "Epoch 00011: val_digit4_accuracy improved from 0.06000 to 0.09500, saving model to model/11-21.61-18.09.hdf5\n",
      "16/16 [==============================] - 20s 1s/step - loss: 21.6107 - digit1_loss: 3.5946 - digit2_loss: 3.6511 - digit3_loss: 3.6645 - digit4_loss: 3.5543 - digit5_loss: 3.5633 - digit6_loss: 3.5830 - digit1_accuracy: 0.0637 - digit2_accuracy: 0.0388 - digit3_accuracy: 0.0463 - digit4_accuracy: 0.0600 - digit5_accuracy: 0.0437 - digit6_accuracy: 0.0562 - val_loss: 18.0864 - val_digit1_loss: 3.0061 - val_digit2_loss: 3.0365 - val_digit3_loss: 3.0284 - val_digit4_loss: 2.9831 - val_digit5_loss: 3.0131 - val_digit6_loss: 3.0192 - val_digit1_accuracy: 0.0600 - val_digit2_accuracy: 0.0500 - val_digit3_accuracy: 0.0750 - val_digit4_accuracy: 0.0950 - val_digit5_accuracy: 0.0750 - val_digit6_accuracy: 0.0550\n",
      "Epoch 12/100\n",
      " 3/16 [====>.........................] - ETA: 12s - loss: 21.4320 - digit1_loss: 3.4250 - digit2_loss: 3.4996 - digit3_loss: 3.6331 - digit4_loss: 3.6346 - digit5_loss: 3.6131 - digit6_loss: 3.6268 - digit1_accuracy: 0.0600 - digit2_accuracy: 0.0533 - digit3_accuracy: 0.0733 - digit4_accuracy: 0.0400 - digit5_accuracy: 0.0667 - digit6_accuracy: 0.0600"
     ]
    }
   ],
   "source": [
    "history = model.fit(train_data, train_label, validation_split=0.2, batch_size=50, epochs=100, verbose=1, shuffle=True, callbacks=callbacks_list)"
   ]
  },
  {
   "cell_type": "code",
   "execution_count": null,
   "metadata": {},
   "outputs": [],
   "source": [
    "show_train_history(history, 'digit1_accuracy', 'val_digit1_accuracy')"
   ]
  },
  {
   "cell_type": "code",
   "execution_count": null,
   "metadata": {},
   "outputs": [],
   "source": []
  }
 ],
 "metadata": {
  "kernelspec": {
   "display_name": "Python 3",
   "language": "python",
   "name": "python3"
  },
  "language_info": {
   "codemirror_mode": {
    "name": "ipython",
    "version": 3
   },
   "file_extension": ".py",
   "mimetype": "text/x-python",
   "name": "python",
   "nbconvert_exporter": "python",
   "pygments_lexer": "ipython3",
   "version": "3.8.3"
  }
 },
 "nbformat": 4,
 "nbformat_minor": 4
}
