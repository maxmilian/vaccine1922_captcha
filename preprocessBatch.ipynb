{
 "cells": [
  {
   "cell_type": "code",
   "execution_count": null,
   "metadata": {},
   "outputs": [],
   "source": [
    "import os, random, cv2\n",
    "import matplotlib.pyplot as plt\n",
    "import numpy as np\n",
    "\n",
    "CAPTCHA_FOLDER = \"captcha/\"\n",
    "PROCESSED_FOLDER = \"processed/\""
   ]
  },
  {
   "cell_type": "code",
   "execution_count": null,
   "metadata": {},
   "outputs": [],
   "source": [
    "def preprocessing(from_filename, to_filename):\n",
    "    if not os.path.isfile(from_filename):\n",
    "        return\n",
    "    img = cv2.imread(from_filename)\n",
    "    img = cv2.cvtColor(img, cv2.COLOR_BGR2GRAY)\n",
    "    crop = img[5:img.shape[0]-5, 5:img.shape[1]-5]\n",
    "    dst = cv2.adaptiveThreshold(crop, 255, cv2.ADAPTIVE_THRESH_MEAN_C, cv2.THRESH_BINARY, 11, 2)\n",
    "    kernel = np.ones((3,3), np.uint8)\n",
    "    opening = cv2.morphologyEx(dst, cv2.MORPH_CLOSE, kernel)\n",
    "    cv2.imwrite(to_filename, opening)\n",
    "    return"
   ]
  },
  {
   "cell_type": "code",
   "execution_count": null,
   "metadata": {},
   "outputs": [],
   "source": [
    "i = 0\n",
    "\n",
    "# ignore existing image\n",
    "while True:\n",
    "    i += 1\n",
    "    filename = PROCESSED_FOLDER + str(i) + '.jpg'\n",
    "    if not os.path.isfile(filename):\n",
    "        i -= 1\n",
    "        break\n",
    "\n",
    "print(\"start to process image from index: \" + str(i + 1))\n",
    "\n",
    "while True:\n",
    "    i += 1\n",
    "    filename = CAPTCHA_FOLDER + str(i) + '.jpg'\n",
    "    if not os.path.isfile(filename):\n",
    "        break\n",
    "    preprocessing(filename, PROCESSED_FOLDER + str(i) + '.jpg')\n",
    "    print(\"i: \", i)\n",
    "\n",
    "print(\"completed\")"
   ]
  },
  {
   "cell_type": "code",
   "execution_count": null,
   "metadata": {},
   "outputs": [],
   "source": []
  }
 ],
 "metadata": {
  "kernelspec": {
   "display_name": "Python 3",
   "language": "python",
   "name": "python3"
  },
  "language_info": {
   "codemirror_mode": {
    "name": "ipython",
    "version": 3
   },
   "file_extension": ".py",
   "mimetype": "text/x-python",
   "name": "python",
   "nbconvert_exporter": "python",
   "pygments_lexer": "ipython3",
   "version": "3.8.10"
  }
 },
 "nbformat": 4,
 "nbformat_minor": 4
}
