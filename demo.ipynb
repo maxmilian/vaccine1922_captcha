{
 "cells": [
  {
   "cell_type": "code",
   "execution_count": null,
   "metadata": {},
   "outputs": [],
   "source": [
    "import time, cv2\n",
    "import numpy as np\n",
    "from PIL import Image\n",
    "import requests\n",
    "import random\n",
    "import matplotlib.pyplot as plt\n",
    "from keras.models import load_model\n",
    "from preprocessBatch import preprocessing\n",
    "\n",
    "\n",
    "CAPTCHA_IMG = \"captcha.png\"\n",
    "PREPROCESS_IMG = \"preprocessing.png\"\n",
    "WIDTH = 125\n",
    "HEIGHT = 25\n",
    "allowedChars = '23456789abdefhknptuy';\n",
    "\n",
    "print('model loading...')\n",
    "model = load_model(\"vaccine1922_model.hdf5\")\n",
    "print('loading completed')"
   ]
  },
  {
   "cell_type": "code",
   "execution_count": null,
   "metadata": {},
   "outputs": [],
   "source": [
    "url = \"https://1922.gov.tw/vas/\"\n",
    "captcha_url = \"https://1922.gov.tw/vas/validateCodeService.do?\"\n",
    "sess = requests.session()\n",
    "result = sess.get(url)\n",
    "\n",
    "r = sess.get(captcha_url + str(random.random()), stream=True)\n",
    "with open(CAPTCHA_IMG, 'wb') as handler:\n",
    "    handler.write(r.content)"
   ]
  },
  {
   "cell_type": "code",
   "execution_count": null,
   "metadata": {},
   "outputs": [],
   "source": [
    "preprocessing(CAPTCHA_IMG, PREPROCESS_IMG)"
   ]
  },
  {
   "cell_type": "code",
   "execution_count": null,
   "metadata": {},
   "outputs": [],
   "source": [
    "img = cv2.imread(CAPTCHA_IMG)\n",
    "preprocessed_img = cv2.imread(PREPROCESS_IMG)\n",
    "plt.subplot(211)\n",
    "plt.imshow(img)\n",
    "plt.subplot(212)\n",
    "plt.imshow(preprocessed_img)\n",
    "plt.show()"
   ]
  },
  {
   "cell_type": "code",
   "execution_count": null,
   "metadata": {},
   "outputs": [],
   "source": [
    "train_data = np.stack([np.array(preprocessed_img)/127.5 - 1])\n",
    "prediction = model.predict(train_data)\n",
    "\n",
    "predict_captcha = ''\n",
    "for predict in prediction:\n",
    "    value = np.argmax(predict[0])\n",
    "    predict_captcha += allowedChars[value]"
   ]
  },
  {
   "cell_type": "code",
   "execution_count": null,
   "metadata": {},
   "outputs": [],
   "source": [
    "predict_captcha"
   ]
  },
  {
   "cell_type": "code",
   "execution_count": null,
   "metadata": {},
   "outputs": [],
   "source": []
  }
 ],
 "metadata": {
  "kernelspec": {
   "display_name": "Python 3",
   "language": "python",
   "name": "python3"
  },
  "language_info": {
   "codemirror_mode": {
    "name": "ipython",
    "version": 3
   },
   "file_extension": ".py",
   "mimetype": "text/x-python",
   "name": "python",
   "nbconvert_exporter": "python",
   "pygments_lexer": "ipython3",
   "version": "3.8.3"
  }
 },
 "nbformat": 4,
 "nbformat_minor": 4
}
